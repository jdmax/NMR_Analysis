{
 "cells": [
  {
   "metadata": {},
   "cell_type": "markdown",
   "source": "# Deuteron Spin Up",
   "id": "502a2b3858707a8b"
  },
  {
   "metadata": {
    "ExecuteTime": {
     "end_time": "2025-06-09T18:15:46.796159Z",
     "start_time": "2025-06-09T18:15:44.827353Z"
    }
   },
   "cell_type": "code",
   "source": [
    "import ipywidgets as widgets\n",
    "from ipywidgets import interact, IntSlider\n",
    "import numpy as np\n",
    "import matplotlib.pyplot as plt\n",
    "import json\n",
    "import pandas as pd\n",
    "from scipy import optimize\n",
    "from datetime import datetime"
   ],
   "id": "a62a1f32e42b6147",
   "outputs": [],
   "execution_count": 1
  },
  {
   "metadata": {},
   "cell_type": "markdown",
   "source": "## Polarization vs Time",
   "id": "30ca21f61bed3fa2"
  },
  {
   "metadata": {
    "ExecuteTime": {
     "end_time": "2025-06-09T18:15:48.916800Z",
     "start_time": "2025-06-09T18:15:47.069062Z"
    }
   },
   "cell_type": "code",
   "source": [
    "data = []\n",
    "with open(\"FROST_deuteron.txt\",\"r\") as eventfile:\n",
    "    for line in eventfile:\n",
    "        line = line.strip()\n",
    "        if not line:\n",
    "            continue\n",
    "        fields = line.split(' ')\n",
    "        timestamp = datetime.strptime(fields[0]+\" \"+fields[1], \"%H:%M:%S.%f %m/%d/%y\")\n",
    "        baseline = fields[5].split(':')\n",
    "        baseline = [float(x) for x in baseline]\n",
    "        signal = fields[6].split(':')\n",
    "        signal = [float(x) for x in signal]\n",
    "\n",
    "        row = {\n",
    "            'timestamp': timestamp,\n",
    "            'baseline': baseline,\n",
    "            'signal': signal\n",
    "        }\n",
    "        data.append(row)\n",
    "\n",
    "df = pd.DataFrame(data)\n",
    "df.set_index('timestamp', inplace=True)\n",
    "\n"
   ],
   "id": "6e4dc9e5aabad694",
   "outputs": [],
   "execution_count": 2
  },
  {
   "metadata": {},
   "cell_type": "markdown",
   "source": "## Interactive Plot, Drag Slider to Select Result Curve",
   "id": "f41eeeea7281d003"
  },
  {
   "metadata": {
    "ExecuteTime": {
     "end_time": "2025-06-09T18:15:49.152306Z",
     "start_time": "2025-06-09T18:15:48.955956Z"
    }
   },
   "cell_type": "code",
   "source": [
    "def plot_array(index):\n",
    "    plt.figure(figsize=(10, 6))\n",
    "    pol_array = df.iloc[index]['signal']  # Get array from selected row\n",
    "    plt.plot(pol_array, linewidth=2)\n",
    "    plt.title(f'Signal {index} ')\n",
    "    plt.grid(True, alpha=0.3)\n",
    "    plt.show()\n",
    "\n",
    "# Create interactive widget\n",
    "interact(plot_array,\n",
    "         index=IntSlider(min=0, max=len(df)-1, step=1, value=9,\n",
    "                        description='Row Index:'))"
   ],
   "id": "99cf4c038d08203",
   "outputs": [
    {
     "data": {
      "text/plain": [
       "interactive(children=(IntSlider(value=9, description='Row Index:', max=6309), Output()), _dom_classes=('widget…"
      ],
      "application/vnd.jupyter.widget-view+json": {
       "version_major": 2,
       "version_minor": 0,
       "model_id": "1e2686c7c5b7425b8357f7209e1d723d"
      }
     },
     "metadata": {},
     "output_type": "display_data"
    },
    {
     "data": {
      "text/plain": [
       "<function __main__.plot_array(index)>"
      ]
     },
     "execution_count": 3,
     "metadata": {},
     "output_type": "execute_result"
    }
   ],
   "execution_count": 3
  },
  {
   "metadata": {
    "ExecuteTime": {
     "end_time": "2025-06-09T18:15:49.201400Z",
     "start_time": "2025-06-09T18:15:49.198234Z"
    }
   },
   "cell_type": "code",
   "source": "",
   "id": "a657e9e62351755d",
   "outputs": [],
   "execution_count": null
  }
 ],
 "metadata": {
  "kernelspec": {
   "display_name": "Python 3",
   "language": "python",
   "name": "python3"
  },
  "language_info": {
   "codemirror_mode": {
    "name": "ipython",
    "version": 2
   },
   "file_extension": ".py",
   "mimetype": "text/x-python",
   "name": "python",
   "nbconvert_exporter": "python",
   "pygments_lexer": "ipython2",
   "version": "2.7.6"
  }
 },
 "nbformat": 4,
 "nbformat_minor": 5
}
